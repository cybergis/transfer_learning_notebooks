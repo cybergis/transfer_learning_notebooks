{
 "cells": [
  {
   "cell_type": "markdown",
   "metadata": {},
   "source": [
    "<h1 style=\"text-align:center;line-height:1.5em;font-size:30px;\">Transfer Learning with a Convolutional Neural Network for Hydrological Streamline Detection</h1>\n",
    "\n",
    "<p style=\"text-align:center;\">\n",
    "    Nattapon Jaroenchai$^{a, b}$ Shaohua Wang$^{a, b}$, Li Chen$^{a, b}$, Lawrence V. Stanislawski$^{c}$, Ethan Shavers$^{c}$, E. Lynn Usery$^{c}$, Shaowen Wang$^{a, b}$\n",
    "</p>\n",
    "\n",
    "<p style=\"text-align:center;\">\n",
    "$^{a}$ Department of Geography and Geographic Information Science, University of Illinois at Urbana-Champaign, Urbana, IL, US<br>\n",
    "$^{b}$ CyberGIS Center for Advanced Digital and Spatial Studies, University of Illinois at Urbana-Champaign, Urbana, IL, USA<br>\n",
    "$^{c}$ U.S. Geology Survey, Center of Excellence for Geospatial Information Science, Rolla, MO, USA <br>\n",
    "$^{d}$ School of Geoscience and Info-Physics, Central South University, Changsha, Hunan, China <br>\n",
    "</p>\n",
    "\n",
    "---\n",
    "    \n",
    "**Notebook Structure:**\n",
    "- [Introduction](introduction.ipynb)\n",
    "- Codes\n",
    " - [Data Preprocessing](preprocessing.ipynb)\n",
    " - [Experiment 1: different input datasets](experiment_1.ipynb)\n",
    " - [Experiment 2: retrain different part of the network](experiment_2.ipynb)\n",
    " - [Experiment 3: different sample sizes](experiment_3.ipynb)\n",
    " - [Conclusion](conclusion.ipynb) "
   ]
  },
  {
   "cell_type": "markdown",
   "metadata": {},
   "source": [
    "---\n",
    "\n",
    "### Introduction\n",
    "\n",
    "Streamline network delineation plays a vital role in various scientific disciplines and business applications, such as agriculture suitability, river dynamics, wetland inventory, watershed analysis, surface water survey and management, flood mapping. Traditionally, flow accumulation techniques have been used to extract streamline, which delineates the streamline solely based on topological information. Recently, machine learning techniques have created a new method for streamline detection using the U-net model. However, the model performance significantly drops when used to delineate streamline in a different area than the area it was trained on. In this paper, we examine the usage of transfer learning techniques, transfer the knowledge from the prior area and use the knowledge of the prior area as the starting point of the model training for the target area. We also tested transfer learning methods with different scenarios, change the input data by adding the NAIP dataset, retrain the lower and the higher part of the network, and varying sample sizes. We use the original U-net model in the previous research as the baseline model and compare the model performance with the model trained from scratch. The results demonstrate that even though the transfer learning model leads to better performance and less computation power, it has limitations that need to be considered. "
   ]
  },
  {
   "cell_type": "markdown",
   "metadata": {},
   "source": [
    "### Research Objectives\n",
    "\n",
    "To examine the performance of the attention U-net model created in the study by Xu et al. (2021) when apply transfer learning techniques. We conducted 3 experiments as follows: \n",
    "\n",
    "1. Examine the performance of transfer learning when using different input datasets\n",
    "2. Examine the performance of transfer learning when when retrain different part of the network\n",
    "3. Examine the performance of transfer learning when using different sample sizes \n",
    "\n",
    "We aim the produce a guidelines for applying transfer learning techniques specifically for streamline detection task. "
   ]
  },
  {
   "cell_type": "markdown",
   "metadata": {},
   "source": [
    "### Study Area\n",
    "\n",
    "The study area of this research is a watershed of Covington River and Rush River in Rappahannock County, located in the north of Virginia\n",
    "\n",
    "### Reference data\n",
    "\n",
    "The NHD flowline and the NHD waterbody feature datasets are used to generate the reference stream features. A 3-meter buffer was generated along the NHD flowline to simulate the width of the stream channel, then, the buffered stream features are merged with the NHD waterbody features and converted to reference raster image.\n",
    "\n",
    "<img src=\"img/Intro_study_area.png\">"
   ]
  },
  {
   "cell_type": "markdown",
   "metadata": {},
   "source": [
    "### Original Input Dataset\n",
    "\n",
    "All input datasets are originally in TIFF format then they are converted to Numpy array later in the preprocessing. \n",
    "\n",
    "All morphological landform raster are co-registered 1-metre resolution.  \n",
    "- 01_CovingtonRiver_020801030302_CURVATURE.tif is the raster of geometric curvature determined from the DEM\n",
    "- 02_CovingtonRiver_020801030302_SLOPE.tif is the slope derived from the DEM using a 3-cell by 3-cell window\n",
    "- 03_CovingtonRiver_020801030302_OPENESS.tif is zenith angle positive openness derived from the DEM using a 10-cell radius with 32 directions\n",
    "- 04_CovingtonRiver_020801030302_DEM.tif is a 1-m resolution digital elevation model (DEM) derived from the ground return points\n",
    "- 05_CovingtonRiver_020801030302_TPI_21.tif is a topographic position index derived from the DEM using a 21-cell by 21-cell window\n",
    "- 06_CovingtonRiver_020801030302_INTENSITY.tif is return intensity determined from the lidar ground points\n",
    "- 07_CovingtonRiver_020801030302_Cov10cell_Geomorphon.tif is the geomorphon derived from the DEM using a 3-cell by 3-cell window\n",
    "- 08_TPI_CovingtonRiver_020801030302_3.tif is a topographic position index derived from the DEM using a 3-cell by 3-cell window\n",
    "\n",
    "NAIP imagery with separated Red, green, blue, and near-infrared raster.\n",
    "\n",
    "- NAIP/NAIP2018_red.tif is the red band of NAIP imagery\n",
    "- NAIP/NAIP2018_Green.tif is the green band of NAIP imagery \n",
    "- NAIP/NAIP2018_Blue.tif is the blue band of NAIP imagery  \n",
    "- NAIP/NAIP2018_Infared.tif is the infrared band of NAIP imagery\n",
    "\n",
    "The image below shows all rasters images.\n",
    "\n",
    "<img src=\"img/Intro_all_rasters.png\">\n",
    "\n",
    "\n",
    "**Raster images:**  (a) Geometric Curvature derived from DEM; (b) 1-m resolution slope data; (c) Positive openness; (d) Digital Elevation Model (DEM); (e) TPI with moving window size 21; (f) Lidar reflectance; (g) 10 most common geomorphic features; (h) TPI with moving window size 3; (i) Red band of National Agriculture Imagery Program (NAIP) image; (j) Green band of NAIP image; (k) Blue band of NAIP image; (l) Near-infrared band of NAIP image."
   ]
  }
 ],
 "metadata": {
  "kernelspec": {
   "display_name": "Python 3",
   "language": "python",
   "name": "python3"
  },
  "language_info": {
   "codemirror_mode": {
    "name": "ipython",
    "version": 3
   },
   "file_extension": ".py",
   "mimetype": "text/x-python",
   "name": "python",
   "nbconvert_exporter": "python",
   "pygments_lexer": "ipython3",
   "version": "3.7.6"
  }
 },
 "nbformat": 4,
 "nbformat_minor": 4
}
