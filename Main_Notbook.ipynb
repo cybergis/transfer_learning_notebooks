{
  "cells": [
    {
      "cell_type": "markdown",
      "metadata": {
        "id": "9XQz3NLqaoY1"
      },
      "source": [
        "# Transfer Learning with Convolutional Neural Networks for Hydrological Streamline Detection\n",
        "\n",
        "## Abstract\n",
        "Streamline network delineation is essential for various applications, such as agriculture sustainability, river dynamics, and watershed analysis. Machine learning methods have been applied for streamline delineation and have shown promising performance. However, performance drops substantially when a trained model is applied to different locations. In this paper, we explore whether fine-tuning neural networks that have been pre-trained on large label datasets (e.g., ImageNet) can improve transferability from one geographic area to another. Specifically, we test transferability using small catchment stream lines from the Rowan County, NC and Covington River, VA areas in the eastern United States. First, we fine-tune eleven pre-trained U-Net models with various ResNet backbones on the Rowan County area and compare them with an attention U-net model that is trained from scratch on the same dataset. We find that the DenseNet169 model achieves an F1-score of 85% which is about 4% higher than the attention U-net model. To compare the transferability of the models to a new geographic area, the three highest F1-score models from the Rowan County area are further fine-tuned with data in the Covington area. Similarly, we fine-tune the attention U-net model from the Rowan County area with the data in the Covington area. We find that fine-tuning ResNet50 model achieves an F1-score of 65.58% in predicting the stream pixels in the Covington area, which is significantly higher than training the models from scratch in the Covington area or fine-tuning attention U-net model from Rowan to Covington.\n",
        "\n",
        "## Keywords:  \n",
        "Convolutional neural network, Deep learning, Remote sensing, Streamline analysis, Transfer learning\n",
        "\n",
        "\n",
        "## Table of Content\n",
        "1. [Study Areas and Input Data](#1-introduction)\n",
        "2. [Machine Learning Model Training Process](/Train_Models.ipynb)\n",
        "3. [Traditional Methods process](/Traditional_Methods.ipynb)\n"
      ]
    },
    {
      "cell_type": "markdown",
      "metadata": {
        "id": "fu-qrWMzfDh_"
      },
      "source": [
        "## 1. Introduction\n",
        "\n",
        "In this study, we investigate the transferability of models across two distinct locations: the watershed in Rowan County, North Carolina, and the Covington area in Virginia.\n",
        "\n",
        "### 1.1 Study Areas\n",
        "\n",
        "#### 1.1.1 Rowan County, North Carolina\n",
        "\n",
        "The data for Rowan County, North Carolina (Figure 1), is sourced from the study by Xu et al. (2021). This area comprises a network of tributaries flowing into Second Creek, the primary flowline feature of 12-digit NHD watershed 030401020504. The dataset encompasses 1,400 training samples and 30 validation samples extracted from the upper portion of the area. The test data covers the entire lower area.\n",
        "\n",
        "![Figure 1: Rowan County area]('.notebook_data/covington_area_figure.jpg')\n",
        "*Figure 1: Rowan County area (left: boundary of North Carolina state; middle: a 1-m resolution image of the study area from National Agriculture Imagery Program (NAIP); right: reference stream feature). Source: Xu et al., 2021.*\n",
        "\n",
        "Eight raster layers are stacked to create the dataset, including a 1-m resolution digital elevation model (DEM), geometric curvature, topographic position index (TPI), zenith angle positive openness, return intensity, and point density information. The statistics for each raster layer are summarized in Table 1.\n",
        "\n",
        "**Table 1: Summary statistics raster images for Rowan County, NC**  \n",
        "\n",
        "| Raster Image Name                                          | Minimum    | Maximum    | Mean      | Standard Deviation | Range     |\n",
        "|------------------------------------------------------------|------------|------------|-----------|--------------------|-----------|\n",
        "| Digital elevation model (meters)                           | 194.11     | 256.19     | 229.07    | 12.96              | 62.07     |\n",
        "| Geometric curvature                                        | -97.25     | 97.93      | 0.01      | 3.05               | 195.18    |\n",
        "| Topographic position index (3x3 window)                    | -8.59      | 5.58       | 6.38      | 0.18               | 14.17     |\n",
        "| Topographic position index (21x21 window)                  | -13.62     | 13.29      | 0.00      | 0.93               | 26.91     |\n",
        "| Openness (R10, D32) degrees                                | 21.52      | 118.8      | 83.41     | 7.35               | 97.28     |\n",
        "| Return intensity                                           | 0.00       | 55185.39   | 29047.18  | 10624.11           | 55185.39  |\n",
        "| Return point density 1 ft above ground (points per m²)     | 0.00       | 0.94       | 0.02      | 0.04               | 0.94      |\n",
        "| Return point density 3 ft above ground (points per m²)     | 0.00       | 2.89       | 0.12      | 0.23               | 2.89      |\n",
        "\n",
        "*Source: Xu et al., 2021.*\n",
        "\n",
        "\n",
        "#### 1.1.2 Covington River Watershed, Virginia\n",
        "\n",
        "The second study area is the 12-digit NHD Hydrologic Unit (HU) 020801030302 watershed, encompassing primary tributaries of Covington and Rush Rivers in Rappahannock County, northern Virginia (Figure 2). The area covers 108 square kilometers and exhibits diverse land cover, temperature ranges, and elevation characteristics. The watershed's features were rasterized to 1-m resolution for reference.\n",
        "\n",
        "![Figure 2: Covington area]('/notebook_data/covington_area_figure.jpg')\n",
        "*Figure 2: Covington area (left: boundary of Virginia, USA; middle: a 1-m resolution image of the study area from National Agriculture Imagery Program (NAIP); right: reference stream feature).*\n",
        "\n",
        "Eight 1-m resolution Lidar and elevation-derived raster data layers were employed for training, validation, and testing. These layers encompass digital elevation models, geometric curvature, slope, positive openness, topographic position indices, return intensity, geomorphons, and TPI. Summary statistics for these layers are presented in Table 2.\n",
        "\n",
        "**Table 2: Summary statistics raster images for Covington River watershed, VA**\n",
        "\n",
        "| Raster image name                        | Minimum      | Maximum    | Mean       | Standard Deviation | Range     |\n",
        "|------------------------------------------|--------------|------------|------------|--------------------|-----------|\n",
        "| Digital elevation model (DEM) (m)        | 125.4523     | 1039.1520  | 365.8976   | 190.9829           | 913.6997  |\n",
        "| Geometric curvature                      | -1.9900      | 1.9974     | 0.0001     | 0.0941             | 3.9957    |\n",
        "| TPI with moving window size 3            | -5.7020      | 5.7213     | 0.00000235 | 0.0661             | 11.4232   |\n",
        "| TPI with moving window size 21           | -14.6981     | 12.8009    | 0.0001     | 0.2873             | 27.4990   |\n",
        "| Positive openness                        | 45.3490      | 162.6082   | 88.8340    | 2.4694             | 117.2592  |\n",
        "| Lidar reflectance                        | 0.0000       | 255.0000   | 39.3197    | 12.6086            | 255.0000  |\n",
        "| Slope data (degree)                      | 0.0000       | 14.2646    | 0.2323     | 0.1711             | 14.2646   |\n",
        "\n",
        "> **Note.** Geomorphons is an integer-coded discrete class, therefore we do not include the statistics in this table.\n",
        "\n",
        "For training, 200 initial sample patches were extracted and augmented to generate 1400 samples for the training dataset. Additionally, 30 unaugmented samples were extracted for the validation dataset. The southern region of the study area served as the test dataset for evaluating model performance and generalization.\n"
      ]
    }
  ],
  "metadata": {
    "colab": {
      "provenance": []
    },
    "kernelspec": {
      "display_name": "Python 3.7.9 ('tensorflow-gpu')",
      "language": "python",
      "name": "python3"
    },
    "language_info": {
      "name": "python",
      "version": "3.7.9"
    },
    "vscode": {
      "interpreter": {
        "hash": "95875376d21992e2bb2dfb532dd42fa3f9007a202209eebfcd016b20cc8adbec"
      }
    }
  },
  "nbformat": 4,
  "nbformat_minor": 0
}
