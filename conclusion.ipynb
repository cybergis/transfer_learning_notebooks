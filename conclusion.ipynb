{
 "cells": [
  {
   "cell_type": "markdown",
   "metadata": {},
   "source": [
    "<h1 style=\"text-align:center;line-height:1.5em;font-size:30px;\">Transfer Learning with a Convolutional Neural Network for Hydrological Streamline Detection</h1>\n",
    "\n",
    "<p style=\"text-align:center;\">\n",
    "    Nattapon Jaroenchai$^{a, b}$ Shaohua Wang$^{a, b}$, Li Chen$^{a, b}$, Lawrence V. Stanislawski$^{c}$, Ethan Shavers$^{c}$, E. Lynn Usery$^{c}$, Shaowen Wang$^{a, b}$\n",
    "</p>\n",
    "\n",
    "<p style=\"text-align:center;\">\n",
    "$^{a}$ Department of Geography and Geographic Information Science, University of Illinois at Urbana-Champaign, Urbana, IL, US<br>\n",
    "$^{b}$ CyberGIS Center for Advanced Digital and Spatial Studies, University of Illinois at Urbana-Champaign, Urbana, IL, USA<br>\n",
    "$^{c}$ U.S. Geology Survey, Center of Excellence for Geospatial Information Science, Rolla, MO, USA <br>\n",
    "$^{d}$ School of Geoscience and Info-Physics, Central South University, Changsha, Hunan, China <br>\n",
    "</p>\n",
    "\n",
    "---\n",
    "    \n",
    "**Notebook Structure:**\n",
    "- [Introduction](introduction.ipynb)\n",
    "- Codes\n",
    " - [Data Preprocessing](preprocessing.ipynb)\n",
    " - [Experiment 1: different input datasets](experiment_1.ipynb)\n",
    " - [Experiment 2: retrain different part of the network](experiment_2.ipynb)\n",
    " - [Experiment 3: different sample sizes](experiment_3.ipynb)\n",
    " - [Model Evaluation](evaluation.ipynb) \n",
    " - [Conclusion](conclusion.ipynb) "
   ]
  },
  {
   "cell_type": "code",
   "execution_count": null,
   "metadata": {},
   "outputs": [],
   "source": []
  }
 ],
 "metadata": {
  "kernelspec": {
   "display_name": "Python 3",
   "language": "python",
   "name": "python3"
  },
  "language_info": {
   "codemirror_mode": {
    "name": "ipython",
    "version": 3
   },
   "file_extension": ".py",
   "mimetype": "text/x-python",
   "name": "python",
   "nbconvert_exporter": "python",
   "pygments_lexer": "ipython3",
   "version": "3.7.6"
  }
 },
 "nbformat": 4,
 "nbformat_minor": 4
}
