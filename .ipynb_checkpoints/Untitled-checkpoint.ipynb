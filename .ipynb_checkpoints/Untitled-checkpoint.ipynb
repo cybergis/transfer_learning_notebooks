{
 "cells": [
  {
   "cell_type": "markdown",
   "metadata": {},
   "source": [
    "# Plot the raster layers"
   ]
  },
  {
   "cell_type": "code",
   "execution_count": 2,
   "metadata": {},
   "outputs": [],
   "source": [
    "%matplotlib inline \n",
    "from matplotlib import pyplot as plt\n",
    "import numpy as np\n",
    "import pandas as pd\n",
    "from PIL import Image as im\n",
    "im.MAX_IMAGE_PIXELS = None\n",
    "import numpy as np\n",
    "import os\n",
    "import gdal\n",
    "import matplotlib.pyplot as plt\n",
    "import os.path\n",
    "from os import path"
   ]
  },
  {
   "cell_type": "code",
   "execution_count": 4,
   "metadata": {},
   "outputs": [],
   "source": [
    "# Files' name of all the ionput data\n",
    "files = [\n",
    "    '01_CovingtonRiver_020801030302_CURVATURE_nodata.tif',\n",
    "    '02_CovingtonRiver_020801030302_SLOPE_nodata.tif', \n",
    "    '03_CovingtonRiver_020801030302_OPENESS_nodata.tif',\n",
    "    '04_CovingtonRiver_020801030302_DEM_nodata.tif',\n",
    "    '05_CovingtonRiver_020801030302_TPI_21_nodata.tif', \n",
    "    '06_CovingtonRiver_020801030302_INTENSITY_nodata.tif',\n",
    "    '07_CovingtonRiver_020801030302_Cov10cell_Geomorphon.tif',\n",
    "    '09_TPI_CovingtonRiver_020801030302_3_nodata.tif',\n",
    "    'NAIP/NAIP2018_RED_edit_nodata.tif',\n",
    "    'NAIP/NAIP2018_GREEN_edit_nodata.tif',\n",
    "    'NAIP/NAIP2018_BLUE_edit_nodata.tif',\n",
    "    'NAIP/NAIP2018_INFARED_edit_nodata.tif',\n",
    "]\n",
    "\n",
    "titles = [\"(a)\",\"(b)\",\"(c)\",\"(d)\",\"(e)\",\"(f)\",\"(g)\",\"(h)\",\"(i)\",\"(j)\",\"(k)\",\"(l)\",]\n",
    "\n",
    "ranges =[\n",
    "    [-0.28222607489286866,0.28248185206077936], # '01_CovingtonRiver_020801030302_CURVATURE_nodata.tif'\n",
    "    [-0.28097646432537005,0.7456170822778501], # '02_CovingtonRiver_020801030302_SLOPE_nodata.tif'\n",
    "    [81.4260223726079, 96.2421904790021], # '03_CovingtonRiver_020801030302_OPENESS_nodata.tif'\n",
    "    [-207.05215950623995, 938.84507252262], # '04_CovingtonRiver_020801030302_DEM_nodata.tif'\n",
    "    [-0.8616536368618285, 0.8618900909336314], # '05_CovingtonRiver_020801030302_TPI_21_nodata.tif'\n",
    "    [1.494045913614002, 77.145486958992],# '06_CovingtonRiver_020801030302_INTENSITY_nodata.tif'\n",
    "    [3.1338925783175906, 8.81583142566701], # '07_CovingtonRiver_020801030302_Cov10cell_Geomorphon.tif'\n",
    "    [-0.19840276259099499, 0.198406762590995], # '09_TPI_CovingtonRiver_020801030302_3_nodata.tif'\n",
    "    [ 0,255],\n",
    "    [ 0,255],\n",
    "    [ 0,255],\n",
    "    [ 0,255]\n",
    "]\n",
    "\n",
    "data_folder = './organized_data/'\n"
   ]
  },
  {
   "cell_type": "code",
   "execution_count": null,
   "metadata": {},
   "outputs": [],
   "source": [
    "fig, axes = plt.subplots(3,4, figsize=(30,20))\n",
    "for i,ax in enumerate(axes.flat):\n",
    "    ds = gdal.Open(data_folder+files[i])\n",
    "    data = ds.GetRasterBand(1).ReadAsArray()\n",
    "    ax.imshow(data,cmap='gray', vmin=ranges[i][0],vmax=ranges[i][1])\n",
    "    ax.set_title(titles[i], fontsize=15, y= -0.15)"
   ]
  },
  {
   "cell_type": "markdown",
   "metadata": {},
   "source": [
    "<hr> "
   ]
  },
  {
   "cell_type": "markdown",
   "metadata": {},
   "source": [
    "# Calculate the raster statistics\n"
   ]
  },
  {
   "cell_type": "code",
   "execution_count": 8,
   "metadata": {},
   "outputs": [
    {
     "name": "stdout",
     "output_type": "stream",
     "text": [
      "./organized_data/NAIP/NAIP2018_RED.tif\n",
      "                                                        0\n",
      "count                                                   1\n",
      "unique                                                  1\n",
      "top     <PIL.TiffImagePlugin.TiffImageFile image mode=...\n",
      "freq                                                    1\n",
      "./organized_data/NAIP/NAIP2018_GREEN.tif\n",
      "                                                        0\n",
      "count                                                   1\n",
      "unique                                                  1\n",
      "top     <PIL.TiffImagePlugin.TiffImageFile image mode=...\n",
      "freq                                                    1\n",
      "./organized_data/NAIP/NAIP2018_BLUE.tif\n",
      "                                                        0\n",
      "count                                                   1\n",
      "unique                                                  1\n",
      "top     <PIL.TiffImagePlugin.TiffImageFile image mode=...\n",
      "freq                                                    1\n",
      "./organized_data/NAIP/NAIP2018_INFARED.tif\n",
      "                                                        0\n",
      "count                                                   1\n",
      "unique                                                  1\n",
      "top     <PIL.TiffImagePlugin.TiffImageFile image mode=...\n",
      "freq                                                    1\n"
     ]
    }
   ],
   "source": [
    "for num, file in enumerate(files, start = 0 ):\n",
    "    if(num < 8) : continue;\n",
    "    path = data_folder+file\n",
    "    print(path)\n",
    "\n",
    "    image = im.open(path)\n",
    "    image_array = np.array(image)\n",
    "#     print(image_array.shape)\n",
    "\n",
    "    image_array = image_array[image_array!=-9999]\n",
    "    \n",
    "    print(pd.DataFrame(image_array).describe())"
   ]
  }
 ],
 "metadata": {
  "kernelspec": {
   "display_name": "Python 3",
   "language": "python",
   "name": "python3"
  },
  "language_info": {
   "codemirror_mode": {
    "name": "ipython",
    "version": 3
   },
   "file_extension": ".py",
   "mimetype": "text/x-python",
   "name": "python",
   "nbconvert_exporter": "python",
   "pygments_lexer": "ipython3",
   "version": "3.7.9"
  }
 },
 "nbformat": 4,
 "nbformat_minor": 4
}
