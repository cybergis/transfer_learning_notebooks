{
 "cells": [
  {
   "cell_type": "markdown",
   "metadata": {},
   "source": [
    "# Transfer learning with different sample sizes\n"
   ]
  },
  {
   "cell_type": "code",
   "execution_count": 9,
   "metadata": {
    "execution": {
     "iopub.execute_input": "2020-10-26T18:20:13.246014Z",
     "iopub.status.busy": "2020-10-26T18:20:13.246014Z",
     "iopub.status.idle": "2020-10-26T18:20:13.253021Z",
     "shell.execute_reply": "2020-10-26T18:20:13.253021Z",
     "shell.execute_reply.started": "2020-10-26T18:20:13.246014Z"
    },
    "jupyter": {
     "source_hidden": true
    }
   },
   "outputs": [],
   "source": [
    "import copy\n",
    "import random\n",
    "import sys\n",
    "import numpy as np\n",
    "import pandas as pd\n",
    "import matplotlib.pyplot as plt\n",
    "import itertools\n",
    "import os\n",
    "import pickle\n",
    "from itertools import chain\n",
    "from skimage.io import imread, imshow, imread_collection, concatenate_images\n",
    "from skimage.transform import resize\n",
    "from skimage.morphology import label\n",
    "from sklearn.metrics import confusion_matrix\n",
    "\n",
    "buf =30\n",
    "\"\"\"\n",
    "plot_confusion_matrix(): prints and plots the confusion matrix. Normalization can be applied by setting `normalize=True`.\n",
    "\"\"\"\n",
    "def plot_confusion_matrix(cm, classes,\n",
    "                          normalize=False,\n",
    "                          title='Confusion matrix',\n",
    "                          cmap=plt.cm.Blues):\n",
    "\n",
    "    if normalize:\n",
    "        cm = cm.astype('float') / cm.sum(axis=1)[:, np.newaxis]\n",
    "        print(\"Normalized confusion matrix\")\n",
    "    else:\n",
    "        print('Confusion matrix, without normalization')\n",
    "\n",
    "    print(cm)\n",
    "\n",
    "    plt.imshow(cm, interpolation='nearest', cmap=cmap)\n",
    "    plt.title(title)\n",
    "    plt.colorbar()\n",
    "    tick_marks = np.arange(len(classes))\n",
    "    plt.xticks(tick_marks, classes, rotation=45)\n",
    "    plt.yticks(tick_marks, classes)\n",
    "\n",
    "    fmt = '.2f' if normalize else 'd'\n",
    "    thresh = cm.max() / 2.\n",
    "    for i, j in itertools.product(range(cm.shape[0]), range(cm.shape[1])):\n",
    "        plt.text(j, i, format(cm[i, j], fmt),\n",
    "                 horizontalalignment=\"center\",\n",
    "                 color=\"white\" if cm[i, j] > thresh else \"black\")\n",
    "\n",
    "    plt.tight_layout()\n",
    "    plt.ylabel('True label')\n",
    "    plt.xlabel('Predicted label')"
   ]
  },
  {
   "cell_type": "markdown",
   "metadata": {},
   "source": [
    "## 200 samples 100 Sample each"
   ]
  },
  {
   "cell_type": "code",
   "execution_count": null,
   "metadata": {
    "execution": {
     "iopub.execute_input": "2020-10-26T18:20:17.535925Z",
     "iopub.status.busy": "2020-10-26T18:20:17.534924Z"
    }
   },
   "outputs": [],
   "source": [
    "#prediction transfer modeltrained on 100 samples\n",
    "preds_test_mod = np.load('prediction_results/prediction_result_model_transfere-_learning_NAIP_100_samples_20201012-150904.npy')\n",
    "\n",
    "dim = np.load('Covington_data/Total_data/reference_nodata_as_0.npy').shape\n",
    "numr = dim[0]//(224 - buf*2)\n",
    "numc = dim[1]//(224 - buf*2)\n",
    "count = -1\n",
    "for i in range(numr):\n",
    "    for j in range(numc):\n",
    "        count += 1    \n",
    "        if(j == 83):\n",
    "            break\n",
    "        temp = preds_test_mod[count][buf:-buf,buf:-buf]\n",
    "        if j == 0:\n",
    "            rows = temp\n",
    "        else:\n",
    "            rows = np.concatenate((rows,temp),axis = 1)\n",
    "    if i == 0:\n",
    "        prediction_map = copy.copy(rows)\n",
    "    else:\n",
    "        prediction_map = np.concatenate((prediction_map,rows),axis = 0)\n",
    "\n",
    "prediction_map = prediction_map[:,:,0]\n",
    "\n",
    "# mask\n",
    "mask = np.load('Covington_data/Total_data/mask.npy')[:prediction_map.shape[0],:prediction_map.shape[1]]\n",
    "[lr,lc] = np.where(mask == 1)\n",
    "\n",
    "# Read reference data\n",
    "groundtruthlist = np.load('Covington_data/Total_data/reference_nodata_as_0.npy')[:prediction_map.shape[0],:prediction_map.shape[1]][lr,lc]\n",
    "predictionlist = prediction_map[lr,lc]\n",
    "\n",
    "cm = confusion_matrix((groundtruthlist).astype(int), predictionlist)\n",
    "plot_confusion_matrix(cm,classes=[\"Non-streams\",\"Streams\"])"
   ]
  },
  {
   "cell_type": "code",
   "execution_count": null,
   "metadata": {
    "jupyter": {
     "source_hidden": true
    }
   },
   "outputs": [],
   "source": [
    "# Statistics\n",
    "from sklearn.metrics import f1_score, precision_score,recall_score\n",
    "\n",
    "print('F1 score of Nonstream: '+str(f1_score(groundtruthlist, predictionlist,labels=[0], average = 'micro')))\n",
    "print('F1 score of Stream: '+str(f1_score(groundtruthlist, predictionlist,labels=[1], average = 'micro')))\n",
    "\n",
    "print('Precision of Nonstream: '+str(precision_score(groundtruthlist, predictionlist,labels=[0], average = 'micro')))\n",
    "print('Precision of Stream: '+str(precision_score(groundtruthlist, predictionlist,labels=[1], average = 'micro')))\n",
    "\n",
    "print('Recall of Nonstream: '+str(recall_score(groundtruthlist, predictionlist,labels=[0], average = 'micro')))\n",
    "print('Recall of Stream: '+str(recall_score(groundtruthlist, predictionlist,labels=[1], average = 'micro')))"
   ]
  },
  {
   "cell_type": "code",
   "execution_count": null,
   "metadata": {
    "jupyter": {
     "source_hidden": true
    }
   },
   "outputs": [],
   "source": [
    "# Generate prediction map\n",
    "import gdal    \n",
    "import numpy as np\n",
    "import numpy.ma as ma\n",
    "import copy\n",
    "import matplotlib.pyplot as plt\n",
    "\n",
    "fig= plt.figure(figsize=(50,50),dpi=72)\n",
    "\n",
    "# Plot the map\n",
    "prediction_map_plt = prediction_map\n",
    "plt.subplot(1,2,1)\n",
    "plt.title('result',fontsize = 16)\n",
    "plt.imshow(prediction_map_plt*255,cmap='gray',vmin=0, vmax=1)\n",
    "\n",
    "reference = np.load('Covington_data/Total_data/reference_nodata_as_0.npy')[:prediction_map.shape[0],:prediction_map.shape[1]]\n",
    "plt.subplot(1,2,2)\n",
    "plt.title('Reference map',fontsize = 16)\n",
    "plt.imshow(reference*255,cmap='gray',vmin=0, vmax=255)\n",
    "plt.show()"
   ]
  },
  {
   "cell_type": "markdown",
   "metadata": {},
   "source": [
    "----\n",
    "\n",
    "## 700 samples 350 each"
   ]
  },
  {
   "cell_type": "code",
   "execution_count": null,
   "metadata": {
    "jupyter": {
     "source_hidden": true
    }
   },
   "outputs": [],
   "source": [
    "#prediction transfer modeltrained on 100 samples\n",
    "preds_test_mod = np.load('prediction_results/prediction_result_model_transfere-_learning_NAIP_350_samples_20201012-155935.npy')\n",
    "\n",
    "dim = np.load('Covington_data/Total_data/reference_nodata_as_0.npy').shape\n",
    "numr = dim[0]//(224 - buf*2)\n",
    "numc = dim[1]//(224 - buf*2)\n",
    "count = -1\n",
    "for i in range(numr):\n",
    "    for j in range(numc):\n",
    "        count += 1    \n",
    "        if(j == 83):\n",
    "            break\n",
    "        temp = preds_test_mod[count][buf:-buf,buf:-buf]\n",
    "        if j == 0:\n",
    "            rows = temp\n",
    "        else:\n",
    "            rows = np.concatenate((rows,temp),axis = 1)\n",
    "    if i == 0:\n",
    "        prediction_map = copy.copy(rows)\n",
    "    else:\n",
    "        prediction_map = np.concatenate((prediction_map,rows),axis = 0)\n",
    "\n",
    "prediction_map = prediction_map[:,:,0]\n",
    "\n",
    "# mask\n",
    "mask = np.load('Covington_data/Total_data/mask.npy')[:prediction_map.shape[0],:prediction_map.shape[1]]\n",
    "[lr,lc] = np.where(mask == 1)\n",
    "\n",
    "# Read reference data\n",
    "groundtruthlist = np.load('Covington_data/Total_data/reference_nodata_as_0.npy')[:prediction_map.shape[0],:prediction_map.shape[1]][lr,lc]\n",
    "predictionlist = prediction_map[lr,lc]\n",
    "\n",
    "cm = confusion_matrix((groundtruthlist).astype(int), predictionlist)\n",
    "plot_confusion_matrix(cm,classes=[\"Non-streams\",\"Streams\"])"
   ]
  },
  {
   "cell_type": "code",
   "execution_count": null,
   "metadata": {
    "jupyter": {
     "source_hidden": true
    }
   },
   "outputs": [],
   "source": [
    "# Statistics\n",
    "from sklearn.metrics import f1_score, precision_score,recall_score\n",
    "\n",
    "print('F1 score of Nonstream: '+str(f1_score(groundtruthlist, predictionlist,labels=[0], average = 'micro')))\n",
    "print('F1 score of Stream: '+str(f1_score(groundtruthlist, predictionlist,labels=[1], average = 'micro')))\n",
    "\n",
    "print('Precision of Nonstream: '+str(precision_score(groundtruthlist, predictionlist,labels=[0], average = 'micro')))\n",
    "print('Precision of Stream: '+str(precision_score(groundtruthlist, predictionlist,labels=[1], average = 'micro')))\n",
    "\n",
    "print('Recall of Nonstream: '+str(recall_score(groundtruthlist, predictionlist,labels=[0], average = 'micro')))\n",
    "print('Recall of Stream: '+str(recall_score(groundtruthlist, predictionlist,labels=[1], average = 'micro')))"
   ]
  },
  {
   "cell_type": "code",
   "execution_count": null,
   "metadata": {
    "jupyter": {
     "source_hidden": true
    }
   },
   "outputs": [],
   "source": [
    "# Generate prediction map\n",
    "import gdal    \n",
    "import numpy as np\n",
    "import numpy.ma as ma\n",
    "import copy\n",
    "import matplotlib.pyplot as plt\n",
    "\n",
    "fig= plt.figure(figsize=(50,50),dpi=72)\n",
    "\n",
    "# Plot the map\n",
    "prediction_map_plt = prediction_map\n",
    "plt.subplot(1,2,1)\n",
    "plt.title('result',fontsize = 16)\n",
    "plt.imshow(prediction_map_plt*255,cmap='gray',vmin=0, vmax=1)\n",
    "\n",
    "reference = np.load('Covington_data/Total_data/reference_nodata_as_0.npy')[:prediction_map.shape[0],:prediction_map.shape[1]]\n",
    "plt.subplot(1,2,2)\n",
    "plt.title('Reference map',fontsize = 16)\n",
    "plt.imshow(reference*255,cmap='gray',vmin=0, vmax=255)\n",
    "plt.show()"
   ]
  },
  {
   "cell_type": "markdown",
   "metadata": {},
   "source": [
    "---\n",
    "## 1000 samples 500 each "
   ]
  },
  {
   "cell_type": "code",
   "execution_count": 12,
   "metadata": {
    "execution": {
     "iopub.execute_input": "2020-10-26T18:11:39.122796Z",
     "iopub.status.busy": "2020-10-26T18:11:39.121795Z",
     "iopub.status.idle": "2020-10-26T18:12:59.288615Z",
     "shell.execute_reply": "2020-10-26T18:12:59.288615Z",
     "shell.execute_reply.started": "2020-10-26T18:11:39.122796Z"
    }
   },
   "outputs": [
    {
     "name": "stdout",
     "output_type": "stream",
     "text": [
      "Confusion matrix, without normalization\n",
      "[[104587241    407733]\n",
      " [   390258   1674538]]\n"
     ]
    },
    {
     "data": {
      "image/png": "[encoded data removed]",
      "text/plain": [
       "<Figure size 432x288 with 2 Axes>"
      ]
     },
     "metadata": {
      "needs_background": "light"
     },
     "output_type": "display_data"
    }
   ],
   "source": [
    "#prediction transfer modeltrained on 100 samples\n",
    "preds_test_mod = np.load('prediction_results/prediction_result_model_transfere-_learning_NAIP_500_samples_20201012-170026.npy')\n",
    "\n",
    "dim = np.load('Covington_data/Total_data/reference_nodata_as_0.npy').shape\n",
    "numr = dim[0]//(224 - buf*2)\n",
    "numc = dim[1]//(224 - buf*2)\n",
    "count = -1\n",
    "for i in range(numr):\n",
    "    for j in range(numc):\n",
    "        count += 1    \n",
    "        if(j == 83):\n",
    "            break\n",
    "        temp = preds_test_mod[count][buf:-buf,buf:-buf]\n",
    "        if j == 0:\n",
    "            rows = temp\n",
    "        else:\n",
    "            rows = np.concatenate((rows,temp),axis = 1)\n",
    "    if i == 0:\n",
    "        prediction_map = copy.copy(rows)\n",
    "    else:\n",
    "        prediction_map = np.concatenate((prediction_map,rows),axis = 0)\n",
    "\n",
    "prediction_map = prediction_map[:,:,0]\n",
    "\n",
    "# mask\n",
    "mask = np.load('Covington_data/Total_data/mask.npy')[:prediction_map.shape[0],:prediction_map.shape[1]]\n",
    "[lr,lc] = np.where(mask == 1)\n",
    "\n",
    "# Read reference data\n",
    "groundtruthlist = np.load('Covington_data/Total_data/reference_nodata_as_0.npy')[:prediction_map.shape[0],:prediction_map.shape[1]][lr,lc]\n",
    "predictionlist = prediction_map[lr,lc]\n",
    "\n",
    "cm = confusion_matrix((groundtruthlist).astype(int), predictionlist)\n",
    "plot_confusion_matrix(cm,classes=[\"Non-streams\",\"Streams\"])"
   ]
  },
  {
   "cell_type": "code",
   "execution_count": null,
   "metadata": {
    "execution": {
     "iopub.execute_input": "2020-10-26T18:12:59.289615Z",
     "iopub.status.busy": "2020-10-26T18:12:59.289615Z"
    },
    "jupyter": {
     "source_hidden": true
    }
   },
   "outputs": [
    {
     "name": "stdout",
     "output_type": "stream",
     "text": [
      "F1 score of Nonstream: 0.9961995446898412\n",
      "F1 score of Stream: 0.8075770176850289\n",
      "Precision of Nonstream: 0.9962824604918431\n"
     ]
    }
   ],
   "source": [
    "# Statistics\n",
    "from sklearn.metrics import f1_score, precision_score,recall_score\n",
    "\n",
    "print('F1 score of Nonstream: '+str(f1_score(groundtruthlist, predictionlist,labels=[0], average = 'micro')))\n",
    "print('F1 score of Stream: '+str(f1_score(groundtruthlist, predictionlist,labels=[1], average = 'micro')))\n",
    "\n",
    "print('Precision of Nonstream: '+str(precision_score(groundtruthlist, predictionlist,labels=[0], average = 'micro')))\n",
    "print('Precision of Stream: '+str(precision_score(groundtruthlist, predictionlist,labels=[1], average = 'micro')))\n",
    "\n",
    "print('Recall of Nonstream: '+str(recall_score(groundtruthlist, predictionlist,labels=[0], average = 'micro')))\n",
    "print('Recall of Stream: '+str(recall_score(groundtruthlist, predictionlist,labels=[1], average = 'micro')))"
   ]
  },
  {
   "cell_type": "code",
   "execution_count": null,
   "metadata": {
    "jupyter": {
     "source_hidden": true
    }
   },
   "outputs": [],
   "source": [
    "# Generate prediction map\n",
    "import gdal    \n",
    "import numpy as np\n",
    "import numpy.ma as ma\n",
    "import copy\n",
    "import matplotlib.pyplot as plt\n",
    "\n",
    "fig= plt.figure(figsize=(50,50),dpi=72)\n",
    "\n",
    "# Plot the map\n",
    "prediction_map_plt = prediction_map\n",
    "plt.subplot(1,2,1)\n",
    "plt.title('result',fontsize = 16)\n",
    "plt.imshow(prediction_map_plt*255,cmap='gray',vmin=0, vmax=1)\n",
    "\n",
    "reference = np.load('Covington_data/Total_data/reference_nodata_as_0.npy')[:prediction_map.shape[0],:prediction_map.shape[1]]\n",
    "plt.subplot(1,2,2)\n",
    "plt.title('Reference map',fontsize = 16)\n",
    "plt.imshow(reference*255,cmap='gray',vmin=0, vmax=255)\n",
    "plt.show()"
   ]
  },
  {
   "cell_type": "code",
   "execution_count": null,
   "metadata": {},
   "outputs": [],
   "source": []
  }
 ],
 "metadata": {
  "kernelspec": {
   "display_name": "Python 3",
   "language": "python",
   "name": "python3"
  },
  "language_info": {
   "codemirror_mode": {
    "name": "ipython",
    "version": 3
   },
   "file_extension": ".py",
   "mimetype": "text/x-python",
   "name": "python",
   "nbconvert_exporter": "python",
   "pygments_lexer": "ipython3",
   "version": "3.8.5"
  }
 },
 "nbformat": 4,
 "nbformat_minor": 4
}
